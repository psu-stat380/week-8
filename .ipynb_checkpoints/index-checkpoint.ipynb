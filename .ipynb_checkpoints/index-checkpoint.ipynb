{
 "cells": [
  {
   "cell_type": "markdown",
   "id": "c4dae1b6",
   "metadata": {},
   "source": [
    "<!-- ---\n",
    "title: \"Week 6\"\n",
    "title-block-banner: true\n",
    "title-block-style: default\n",
    "execute:\n",
    "  freeze: true\n",
    "  cache: true\n",
    "format: html\n",
    "# format: pdf\n",
    "--- -->"
   ]
  },
  {
   "cell_type": "code",
   "execution_count": 1,
   "id": "99d0176d-3028-42c9-b4db-e49ae5d032fa",
   "metadata": {
    "vscode": {
     "languageId": "r"
    }
   },
   "outputs": [
    {
     "name": "stderr",
     "output_type": "stream",
     "text": [
      "\n",
      "Attaching package: ‘renv’\n",
      "\n",
      "\n",
      "The following objects are masked from ‘package:stats’:\n",
      "\n",
      "    embed, update\n",
      "\n",
      "\n",
      "The following objects are masked from ‘package:utils’:\n",
      "\n",
      "    history, upgrade\n",
      "\n",
      "\n",
      "The following objects are masked from ‘package:base’:\n",
      "\n",
      "    autoload, load, remove\n",
      "\n",
      "\n"
     ]
    }
   ],
   "source": [
    "dir <- \"~/work/courses/stat380/weeks/week-8/\"\n",
    "setwd(dir)\n",
    "library(renv)\n",
    "renv::activate(dir)"
   ]
  },
  {
   "cell_type": "markdown",
   "id": "9d71c7bf",
   "metadata": {},
   "source": [
    "\n",
    "\n",
    "## Agenda:\n",
    "\n",
    "1. Automatic differentiation\n",
    "1. Cross validation\n",
    "1. Classification\n",
    "\n",
    "#### Packages we will require this week"
   ]
  },
  {
   "cell_type": "code",
   "execution_count": 2,
   "id": "8d19e576-83a6-4d5a-b2e4-58be67e2b81c",
   "metadata": {
    "vscode": {
     "languageId": "r"
    }
   },
   "outputs": [
    {
     "name": "stderr",
     "output_type": "stream",
     "text": [
      "Loading required package: ISLR2\n",
      "\n",
      "Loading required package: dplyr\n",
      "\n",
      "\n",
      "Attaching package: ‘dplyr’\n",
      "\n",
      "\n",
      "The following objects are masked from ‘package:stats’:\n",
      "\n",
      "    filter, lag\n",
      "\n",
      "\n",
      "The following objects are masked from ‘package:base’:\n",
      "\n",
      "    intersect, setdiff, setequal, union\n",
      "\n",
      "\n",
      "Loading required package: tidyr\n",
      "\n",
      "Loading required package: readr\n",
      "\n",
      "Loading required package: purrr\n",
      "\n",
      "\n",
      "Attaching package: ‘purrr’\n",
      "\n",
      "\n",
      "The following object is masked from ‘package:renv’:\n",
      "\n",
      "    modify\n",
      "\n",
      "\n",
      "Loading required package: glmnet\n",
      "\n",
      "Warning message in library(package, lib.loc = lib.loc, character.only = TRUE, logical.return = TRUE, :\n",
      "“there is no package called ‘glmnet’”\n",
      "Loading required package: caret\n",
      "\n",
      "Warning message in library(package, lib.loc = lib.loc, character.only = TRUE, logical.return = TRUE, :\n",
      "“there is no package called ‘caret’”\n",
      "Loading required package: repr\n",
      "\n",
      "Warning message in library(package, lib.loc = lib.loc, character.only = TRUE, logical.return = TRUE, :\n",
      "“there is no package called ‘repr’”\n",
      "Loading required package: torch\n",
      "\n",
      "Warning message in library(package, lib.loc = lib.loc, character.only = TRUE, logical.return = TRUE, :\n",
      "“there is no package called ‘torch’”\n",
      "Loading required package: mlbench\n",
      "\n",
      "Warning message in library(package, lib.loc = lib.loc, character.only = TRUE, logical.return = TRUE, :\n",
      "“there is no package called ‘mlbench’”\n"
     ]
    },
    {
     "data": {
      "text/html": [
       "<style>\n",
       ".dl-inline {width: auto; margin:0; padding: 0}\n",
       ".dl-inline>dt, .dl-inline>dd {float: none; width: auto; display: inline-block}\n",
       ".dl-inline>dt::after {content: \":\\0020\"; padding-right: .5ex}\n",
       ".dl-inline>dt:not(:first-of-type) {padding-left: .5ex}\n",
       "</style><dl class=dl-inline><dt>ISLR2</dt><dd>TRUE</dd><dt>dplyr</dt><dd>TRUE</dd><dt>tidyr</dt><dd>TRUE</dd><dt>readr</dt><dd>TRUE</dd><dt>purrr</dt><dd>TRUE</dd><dt>glmnet</dt><dd>FALSE</dd><dt>caret</dt><dd>FALSE</dd><dt>repr</dt><dd>FALSE</dd><dt>torch</dt><dd>FALSE</dd><dt>mlbench</dt><dd>FALSE</dd></dl>\n"
      ],
      "text/latex": [
       "\\begin{description*}\n",
       "\\item[ISLR2] TRUE\n",
       "\\item[dplyr] TRUE\n",
       "\\item[tidyr] TRUE\n",
       "\\item[readr] TRUE\n",
       "\\item[purrr] TRUE\n",
       "\\item[glmnet] FALSE\n",
       "\\item[caret] FALSE\n",
       "\\item[repr] FALSE\n",
       "\\item[torch] FALSE\n",
       "\\item[mlbench] FALSE\n",
       "\\end{description*}\n"
      ],
      "text/markdown": [
       "ISLR2\n",
       ":   TRUEdplyr\n",
       ":   TRUEtidyr\n",
       ":   TRUEreadr\n",
       ":   TRUEpurrr\n",
       ":   TRUEglmnet\n",
       ":   FALSEcaret\n",
       ":   FALSErepr\n",
       ":   FALSEtorch\n",
       ":   FALSEmlbench\n",
       ":   FALSE\n",
       "\n"
      ],
      "text/plain": [
       "  ISLR2   dplyr   tidyr   readr   purrr  glmnet   caret    repr   torch mlbench \n",
       "   TRUE    TRUE    TRUE    TRUE    TRUE   FALSE   FALSE   FALSE   FALSE   FALSE "
      ]
     },
     "metadata": {},
     "output_type": "display_data"
    }
   ],
   "source": [
    "packages <- c(\n",
    "    # Old packages\n",
    "    \"ISLR2\",\n",
    "    \"dplyr\",\n",
    "    \"tidyr\",\n",
    "    \"readr\",\n",
    "    \"purrr\",\n",
    "    \"glmnet\",\n",
    "    \"caret\",\n",
    "    \"repr\",\n",
    "    # NEW\n",
    "    \"torch\",\n",
    "    \"mlbench\"\n",
    ")\n",
    "\n",
    "# renv::install(packages)\n",
    "sapply(packages, require, character.only=TRUE)"
   ]
  },
  {
   "cell_type": "markdown",
   "id": "dbedfd49-8712-4fac-ad54-292c7a83dbd9",
   "metadata": {},
   "source": [
    "# Classification"
   ]
  },
  {
   "cell_type": "markdown",
   "id": "21e80be4-dddc-4d98-882a-8d70ba1b6623",
   "metadata": {},
   "source": [
    "We will be using the following dataset for the examples here\n",
    "\n",
    "> Breast cancer dataset: This dataset contains measurements of various characteristics of breast cancer cells, with the goal of predicting whether a tumor is benign or malignant."
   ]
  },
  {
   "cell_type": "code",
   "execution_count": 4,
   "id": "847f0fdf-316d-43f5-88ac-d1ad461345fc",
   "metadata": {},
   "outputs": [],
   "source": [
    "url <- \"https://archive.ics.uci.edu/ml/machine-learning-databases/breast-cancer-wisconsin/wdbc.data\"\n",
    "col_names <- c(\"id\", \"diagnosis\", paste0(\"feat\", 1:30))\n",
    "df <- read_csv(\n",
    "    url, col_names, col_types = cols()\n",
    "    ) %>% \n",
    "    select(-id) %>% \n",
    "    mutate(outcome = ifelse(diagnosis == \"M\", 1, 0)) %>% \n",
    "    select(-diagnosis)"
   ]
  },
  {
   "cell_type": "code",
   "execution_count": 5,
   "id": "65d18aab-6469-4a2b-ba52-5d785aa82725",
   "metadata": {},
   "outputs": [
    {
     "data": {
      "text/html": [
       "<table class=\"dataframe\">\n",
       "<caption>A tibble: 6 × 31</caption>\n",
       "<thead>\n",
       "\t<tr><th scope=col>feat1</th><th scope=col>feat2</th><th scope=col>feat3</th><th scope=col>feat4</th><th scope=col>feat5</th><th scope=col>feat6</th><th scope=col>feat7</th><th scope=col>feat8</th><th scope=col>feat9</th><th scope=col>feat10</th><th scope=col>⋯</th><th scope=col>feat22</th><th scope=col>feat23</th><th scope=col>feat24</th><th scope=col>feat25</th><th scope=col>feat26</th><th scope=col>feat27</th><th scope=col>feat28</th><th scope=col>feat29</th><th scope=col>feat30</th><th scope=col>outcome</th></tr>\n",
       "\t<tr><th scope=col>&lt;dbl&gt;</th><th scope=col>&lt;dbl&gt;</th><th scope=col>&lt;dbl&gt;</th><th scope=col>&lt;dbl&gt;</th><th scope=col>&lt;dbl&gt;</th><th scope=col>&lt;dbl&gt;</th><th scope=col>&lt;dbl&gt;</th><th scope=col>&lt;dbl&gt;</th><th scope=col>&lt;dbl&gt;</th><th scope=col>&lt;dbl&gt;</th><th scope=col>⋯</th><th scope=col>&lt;dbl&gt;</th><th scope=col>&lt;dbl&gt;</th><th scope=col>&lt;dbl&gt;</th><th scope=col>&lt;dbl&gt;</th><th scope=col>&lt;dbl&gt;</th><th scope=col>&lt;dbl&gt;</th><th scope=col>&lt;dbl&gt;</th><th scope=col>&lt;dbl&gt;</th><th scope=col>&lt;dbl&gt;</th><th scope=col>&lt;dbl&gt;</th></tr>\n",
       "</thead>\n",
       "<tbody>\n",
       "\t<tr><td>17.99</td><td>10.38</td><td>122.80</td><td>1001.0</td><td>0.11840</td><td>0.27760</td><td>0.3001</td><td>0.14710</td><td>0.2419</td><td>0.07871</td><td>⋯</td><td>17.33</td><td>184.60</td><td>2019.0</td><td>0.1622</td><td>0.6656</td><td>0.7119</td><td>0.2654</td><td>0.4601</td><td>0.11890</td><td>1</td></tr>\n",
       "\t<tr><td>20.57</td><td>17.77</td><td>132.90</td><td>1326.0</td><td>0.08474</td><td>0.07864</td><td>0.0869</td><td>0.07017</td><td>0.1812</td><td>0.05667</td><td>⋯</td><td>23.41</td><td>158.80</td><td>1956.0</td><td>0.1238</td><td>0.1866</td><td>0.2416</td><td>0.1860</td><td>0.2750</td><td>0.08902</td><td>1</td></tr>\n",
       "\t<tr><td>19.69</td><td>21.25</td><td>130.00</td><td>1203.0</td><td>0.10960</td><td>0.15990</td><td>0.1974</td><td>0.12790</td><td>0.2069</td><td>0.05999</td><td>⋯</td><td>25.53</td><td>152.50</td><td>1709.0</td><td>0.1444</td><td>0.4245</td><td>0.4504</td><td>0.2430</td><td>0.3613</td><td>0.08758</td><td>1</td></tr>\n",
       "\t<tr><td>11.42</td><td>20.38</td><td> 77.58</td><td> 386.1</td><td>0.14250</td><td>0.28390</td><td>0.2414</td><td>0.10520</td><td>0.2597</td><td>0.09744</td><td>⋯</td><td>26.50</td><td> 98.87</td><td> 567.7</td><td>0.2098</td><td>0.8663</td><td>0.6869</td><td>0.2575</td><td>0.6638</td><td>0.17300</td><td>1</td></tr>\n",
       "\t<tr><td>20.29</td><td>14.34</td><td>135.10</td><td>1297.0</td><td>0.10030</td><td>0.13280</td><td>0.1980</td><td>0.10430</td><td>0.1809</td><td>0.05883</td><td>⋯</td><td>16.67</td><td>152.20</td><td>1575.0</td><td>0.1374</td><td>0.2050</td><td>0.4000</td><td>0.1625</td><td>0.2364</td><td>0.07678</td><td>1</td></tr>\n",
       "\t<tr><td>12.45</td><td>15.70</td><td> 82.57</td><td> 477.1</td><td>0.12780</td><td>0.17000</td><td>0.1578</td><td>0.08089</td><td>0.2087</td><td>0.07613</td><td>⋯</td><td>23.75</td><td>103.40</td><td> 741.6</td><td>0.1791</td><td>0.5249</td><td>0.5355</td><td>0.1741</td><td>0.3985</td><td>0.12440</td><td>1</td></tr>\n",
       "</tbody>\n",
       "</table>\n"
      ],
      "text/latex": [
       "A tibble: 6 × 31\n",
       "\\begin{tabular}{lllllllllllllllllllll}\n",
       " feat1 & feat2 & feat3 & feat4 & feat5 & feat6 & feat7 & feat8 & feat9 & feat10 & ⋯ & feat22 & feat23 & feat24 & feat25 & feat26 & feat27 & feat28 & feat29 & feat30 & outcome\\\\\n",
       " <dbl> & <dbl> & <dbl> & <dbl> & <dbl> & <dbl> & <dbl> & <dbl> & <dbl> & <dbl> & ⋯ & <dbl> & <dbl> & <dbl> & <dbl> & <dbl> & <dbl> & <dbl> & <dbl> & <dbl> & <dbl>\\\\\n",
       "\\hline\n",
       "\t 17.99 & 10.38 & 122.80 & 1001.0 & 0.11840 & 0.27760 & 0.3001 & 0.14710 & 0.2419 & 0.07871 & ⋯ & 17.33 & 184.60 & 2019.0 & 0.1622 & 0.6656 & 0.7119 & 0.2654 & 0.4601 & 0.11890 & 1\\\\\n",
       "\t 20.57 & 17.77 & 132.90 & 1326.0 & 0.08474 & 0.07864 & 0.0869 & 0.07017 & 0.1812 & 0.05667 & ⋯ & 23.41 & 158.80 & 1956.0 & 0.1238 & 0.1866 & 0.2416 & 0.1860 & 0.2750 & 0.08902 & 1\\\\\n",
       "\t 19.69 & 21.25 & 130.00 & 1203.0 & 0.10960 & 0.15990 & 0.1974 & 0.12790 & 0.2069 & 0.05999 & ⋯ & 25.53 & 152.50 & 1709.0 & 0.1444 & 0.4245 & 0.4504 & 0.2430 & 0.3613 & 0.08758 & 1\\\\\n",
       "\t 11.42 & 20.38 &  77.58 &  386.1 & 0.14250 & 0.28390 & 0.2414 & 0.10520 & 0.2597 & 0.09744 & ⋯ & 26.50 &  98.87 &  567.7 & 0.2098 & 0.8663 & 0.6869 & 0.2575 & 0.6638 & 0.17300 & 1\\\\\n",
       "\t 20.29 & 14.34 & 135.10 & 1297.0 & 0.10030 & 0.13280 & 0.1980 & 0.10430 & 0.1809 & 0.05883 & ⋯ & 16.67 & 152.20 & 1575.0 & 0.1374 & 0.2050 & 0.4000 & 0.1625 & 0.2364 & 0.07678 & 1\\\\\n",
       "\t 12.45 & 15.70 &  82.57 &  477.1 & 0.12780 & 0.17000 & 0.1578 & 0.08089 & 0.2087 & 0.07613 & ⋯ & 23.75 & 103.40 &  741.6 & 0.1791 & 0.5249 & 0.5355 & 0.1741 & 0.3985 & 0.12440 & 1\\\\\n",
       "\\end{tabular}\n"
      ],
      "text/markdown": [
       "\n",
       "A tibble: 6 × 31\n",
       "\n",
       "| feat1 &lt;dbl&gt; | feat2 &lt;dbl&gt; | feat3 &lt;dbl&gt; | feat4 &lt;dbl&gt; | feat5 &lt;dbl&gt; | feat6 &lt;dbl&gt; | feat7 &lt;dbl&gt; | feat8 &lt;dbl&gt; | feat9 &lt;dbl&gt; | feat10 &lt;dbl&gt; | ⋯ ⋯ | feat22 &lt;dbl&gt; | feat23 &lt;dbl&gt; | feat24 &lt;dbl&gt; | feat25 &lt;dbl&gt; | feat26 &lt;dbl&gt; | feat27 &lt;dbl&gt; | feat28 &lt;dbl&gt; | feat29 &lt;dbl&gt; | feat30 &lt;dbl&gt; | outcome &lt;dbl&gt; |\n",
       "|---|---|---|---|---|---|---|---|---|---|---|---|---|---|---|---|---|---|---|---|---|\n",
       "| 17.99 | 10.38 | 122.80 | 1001.0 | 0.11840 | 0.27760 | 0.3001 | 0.14710 | 0.2419 | 0.07871 | ⋯ | 17.33 | 184.60 | 2019.0 | 0.1622 | 0.6656 | 0.7119 | 0.2654 | 0.4601 | 0.11890 | 1 |\n",
       "| 20.57 | 17.77 | 132.90 | 1326.0 | 0.08474 | 0.07864 | 0.0869 | 0.07017 | 0.1812 | 0.05667 | ⋯ | 23.41 | 158.80 | 1956.0 | 0.1238 | 0.1866 | 0.2416 | 0.1860 | 0.2750 | 0.08902 | 1 |\n",
       "| 19.69 | 21.25 | 130.00 | 1203.0 | 0.10960 | 0.15990 | 0.1974 | 0.12790 | 0.2069 | 0.05999 | ⋯ | 25.53 | 152.50 | 1709.0 | 0.1444 | 0.4245 | 0.4504 | 0.2430 | 0.3613 | 0.08758 | 1 |\n",
       "| 11.42 | 20.38 |  77.58 |  386.1 | 0.14250 | 0.28390 | 0.2414 | 0.10520 | 0.2597 | 0.09744 | ⋯ | 26.50 |  98.87 |  567.7 | 0.2098 | 0.8663 | 0.6869 | 0.2575 | 0.6638 | 0.17300 | 1 |\n",
       "| 20.29 | 14.34 | 135.10 | 1297.0 | 0.10030 | 0.13280 | 0.1980 | 0.10430 | 0.1809 | 0.05883 | ⋯ | 16.67 | 152.20 | 1575.0 | 0.1374 | 0.2050 | 0.4000 | 0.1625 | 0.2364 | 0.07678 | 1 |\n",
       "| 12.45 | 15.70 |  82.57 |  477.1 | 0.12780 | 0.17000 | 0.1578 | 0.08089 | 0.2087 | 0.07613 | ⋯ | 23.75 | 103.40 |  741.6 | 0.1791 | 0.5249 | 0.5355 | 0.1741 | 0.3985 | 0.12440 | 1 |\n",
       "\n"
      ],
      "text/plain": [
       "  feat1 feat2 feat3  feat4  feat5   feat6   feat7  feat8   feat9  feat10  ⋯\n",
       "1 17.99 10.38 122.80 1001.0 0.11840 0.27760 0.3001 0.14710 0.2419 0.07871 ⋯\n",
       "2 20.57 17.77 132.90 1326.0 0.08474 0.07864 0.0869 0.07017 0.1812 0.05667 ⋯\n",
       "3 19.69 21.25 130.00 1203.0 0.10960 0.15990 0.1974 0.12790 0.2069 0.05999 ⋯\n",
       "4 11.42 20.38  77.58  386.1 0.14250 0.28390 0.2414 0.10520 0.2597 0.09744 ⋯\n",
       "5 20.29 14.34 135.10 1297.0 0.10030 0.13280 0.1980 0.10430 0.1809 0.05883 ⋯\n",
       "6 12.45 15.70  82.57  477.1 0.12780 0.17000 0.1578 0.08089 0.2087 0.07613 ⋯\n",
       "  feat22 feat23 feat24 feat25 feat26 feat27 feat28 feat29 feat30  outcome\n",
       "1 17.33  184.60 2019.0 0.1622 0.6656 0.7119 0.2654 0.4601 0.11890 1      \n",
       "2 23.41  158.80 1956.0 0.1238 0.1866 0.2416 0.1860 0.2750 0.08902 1      \n",
       "3 25.53  152.50 1709.0 0.1444 0.4245 0.4504 0.2430 0.3613 0.08758 1      \n",
       "4 26.50   98.87  567.7 0.2098 0.8663 0.6869 0.2575 0.6638 0.17300 1      \n",
       "5 16.67  152.20 1575.0 0.1374 0.2050 0.4000 0.1625 0.2364 0.07678 1      \n",
       "6 23.75  103.40  741.6 0.1791 0.5249 0.5355 0.1741 0.3985 0.12440 1      "
      ]
     },
     "metadata": {},
     "output_type": "display_data"
    }
   ],
   "source": [
    "head(df)"
   ]
  },
  {
   "cell_type": "markdown",
   "id": "8ab74f2d-76b1-4be9-acf3-68d2fd3e7616",
   "metadata": {},
   "source": [
    "The problem with linear regression for binary responses\n",
    "\n",
    "Let's start by looking at an example. Imagine we have a dataset with a binary response variable (0 or 1) and a continuous predictor variable. We might be tempted to use linear regression with the lm() function to model the relationship between the predictor and response variables. After all, linear regression is a powerful and flexible tool that can be used to model a wide range of relationships between variables.\n",
    "\n",
    "However, when we use linear regression with a binary response variable, we quickly run into a problem. The linear regression model will give us a predicted value for the response variable for any given value of the predictor variable, but this predicted value is not a probability. The predicted value can take on any value between 0 and 1, but it doesn't necessarily represent the probability of the response variable being a 1.\n",
    "\n",
    "To see why this is a problem, consider the following scenario. Suppose we have a dataset with a binary response variable and a continuous predictor variable. We fit a linear regression model to the data using the lm() function in R, and we get a predicted value of 0.8 for the response variable when the predictor variable has a value of 1.5. What does this predicted value of 0.8 actually mean?\n",
    "\n",
    "If we interpret the predicted value as a probability, we might conclude that the probability of the response variable being a 1 when the predictor variable has a value of 1.5 is 0.8. But this interpretation is incorrect. The predicted value from linear regression is not a probability, and it can take on values greater than 1 or less than 0."
   ]
  },
  {
   "cell_type": "code",
   "execution_count": 6,
   "id": "e2331e14-0fb9-464c-85dc-14bc8f0839cd",
   "metadata": {},
   "outputs": [
    {
     "data": {
      "text/plain": [
       "\n",
       "Call:\n",
       "lm(formula = outcome ~ ., data = df)\n",
       "\n",
       "Residuals:\n",
       "     Min       1Q   Median       3Q      Max \n",
       "-0.60241 -0.16209 -0.02705  0.12982  0.82295 \n",
       "\n",
       "Coefficients:\n",
       "              Estimate Std. Error t value Pr(>|t|)    \n",
       "(Intercept) -2.0218117  0.4280072  -4.724 2.96e-06 ***\n",
       "feat1       -0.2177721  0.1735089  -1.255 0.209985    \n",
       "feat2        0.0045455  0.0079439   0.572 0.567426    \n",
       "feat3        0.0237399  0.0250985   0.946 0.344641    \n",
       "feat4        0.0003178  0.0005253   0.605 0.545391    \n",
       "feat5        0.0846891  2.0172759   0.042 0.966529    \n",
       "feat6       -4.2220353  1.3336803  -3.166 0.001635 ** \n",
       "feat7        1.3979973  1.0458611   1.337 0.181887    \n",
       "feat8        2.1418330  1.9791819   1.082 0.279657    \n",
       "feat9        0.1027092  0.7427382   0.138 0.890067    \n",
       "feat10       0.0332616  5.5722693   0.006 0.995240    \n",
       "feat11       0.4349559  0.3104682   1.401 0.161800    \n",
       "feat12      -0.0067585  0.0368439  -0.183 0.854525    \n",
       "feat13      -0.0225203  0.0411183  -0.548 0.584129    \n",
       "feat14      -0.0009232  0.0013978  -0.660 0.509235    \n",
       "feat15      15.8543207  6.6248737   2.393 0.017046 *  \n",
       "feat16       0.0649034  2.1694829   0.030 0.976145    \n",
       "feat17      -3.5654680  1.3007522  -2.741 0.006327 ** \n",
       "feat18      10.5679513  5.4520354   1.938 0.053103 .  \n",
       "feat19       1.6973407  2.7276006   0.622 0.534019    \n",
       "feat20      -7.1464402 11.6764096  -0.612 0.540769    \n",
       "feat21       0.1951831  0.0579677   3.367 0.000814 ***\n",
       "feat22       0.0071594  0.0069489   1.030 0.303339    \n",
       "feat23      -0.0024351  0.0059360  -0.410 0.681807    \n",
       "feat24      -0.0010112  0.0003197  -3.163 0.001648 ** \n",
       "feat25       0.5428569  1.4346393   0.378 0.705288    \n",
       "feat26       0.0671583  0.3830830   0.175 0.860902    \n",
       "feat27       0.3811912  0.2686173   1.419 0.156453    \n",
       "feat28       0.4643099  0.9142253   0.508 0.611751    \n",
       "feat29       0.5567875  0.4943014   1.126 0.260493    \n",
       "feat30       4.3034831  2.3832134   1.806 0.071517 .  \n",
       "---\n",
       "Signif. codes:  0 ‘***’ 0.001 ‘**’ 0.01 ‘*’ 0.05 ‘.’ 0.1 ‘ ’ 1\n",
       "\n",
       "Residual standard error: 0.2362 on 538 degrees of freedom\n",
       "Multiple R-squared:  0.7743,\tAdjusted R-squared:  0.7617 \n",
       "F-statistic: 61.53 on 30 and 538 DF,  p-value: < 2.2e-16\n"
      ]
     },
     "metadata": {},
     "output_type": "display_data"
    }
   ],
   "source": [
    "reg_model <- lm(outcome ~ ., df)\n",
    "summary(reg_model)"
   ]
  },
  {
   "cell_type": "code",
   "execution_count": 7,
   "id": "fd918d22-dc26-4c2d-ae7b-c4e6ae12b8d9",
   "metadata": {},
   "outputs": [],
   "source": [
    "n <- 100\n",
    "new_patients <- data.frame(matrix(rnorm(30 * n), nrow = n))\n",
    "colnames(new_patients) <- paste0(\"feat\", 1:30)\n",
    "new_predictions <- predict(reg_model, newdata = new_patients, type = \"response\")"
   ]
  },
  {
   "cell_type": "code",
   "execution_count": 8,
   "id": "ac04254e-136b-4afd-b713-dd15597a1fdc",
   "metadata": {},
   "outputs": [
    {
     "name": "stdout",
     "output_type": "stream",
     "text": [
      "          1           2           3           4           5           6 \n",
      " -6.7680051  12.7231949   7.6484853  -0.2733131   0.8878000 -17.1135060 \n"
     ]
    }
   ],
   "source": [
    "print(new_predictions %>% head())"
   ]
  },
  {
   "cell_type": "code",
   "execution_count": 9,
   "id": "d327c9a4-5791-4c44-8768-30e42bf996a9",
   "metadata": {},
   "outputs": [
    {
     "data": {
      "image/png": "[encoded data removed]",
      "text/plain": [
       "plot without title"
      ]
     },
     "metadata": {
      "image/png": {
       "height": 420,
       "width": 420
      }
     },
     "output_type": "display_data"
    }
   ],
   "source": [
    "boxplot(new_predictions)"
   ]
  },
  {
   "cell_type": "markdown",
   "id": "85adde37-696d-4428-8612-df99bcbfd237",
   "metadata": {},
   "source": [
    "## The need for logistic regression\n",
    "\n",
    "So, what do we do when we have a binary response variable and we want to model the relationship between the predictor and response variables? This is where logistic regression comes in. Logistic regression is a type of generalized linear model that is specifically designed for binary response variables.\n",
    "\n",
    "The main idea behind logistic regression is to transform the predicted values from linear regression so that they represent probabilities. We do this using a function called the logistic function, which maps any value between negative infinity and positive infinity to a value between 0 and 1. The logistic function is a sigmoidal curve that looks like an elongated S-shape. By applying the logistic function to the predicted values from linear regression, we can transform them into probabilities that represent the probability of the response variable being a 1.\n",
    "\n",
    "In the next section, we'll dive into the details of logistic regression and see how it works in practice using the breast cancer dataset."
   ]
  },
  {
   "cell_type": "markdown",
   "id": "58815223-e1aa-4d3c-9ea6-8679e9b293d5",
   "metadata": {},
   "source": [
    "\n",
    "#### Odds and odds ratios\n",
    "\n",
    "Let's start by defining the odds of an event occurring. The odds of an event occurring are defined as the probability of the event occurring divided by the probability of the event not occurring. For example, if the probability of a basketball team winning a game is 0.6, then the odds of the team winning the game are 0.6/0.4 = 1.5."
   ]
  },
  {
   "cell_type": "markdown",
   "id": "aaf49ebc-0cda-4a8a-9584-57ae73ea3bba",
   "metadata": {},
   "source": [
    "Odds ratios are a way to compare the odds of an event occurring between two different groups. The odds ratio is defined as the ratio of the odds of an event occurring in one group to the odds of the event occurring in another group. For example, if the odds of a basketball team winning a game are 1.5 in one group and 2.0 in another group, then the odds ratio of the first group to the second group is 1.5/2.0 = 0.75."
   ]
  },
  {
   "cell_type": "code",
   "execution_count": 10,
   "id": "0927427f-86e2-4501-a8b2-e085e0d331d7",
   "metadata": {},
   "outputs": [
    {
     "name": "stdout",
     "output_type": "stream",
     "text": [
      "Odds group 1: 1.3 \n",
      "Odds group 2: 1.7 \n",
      "Odds ratio: 0.76 \n"
     ]
    }
   ],
   "source": [
    "set.seed(123)\n",
    "binary_var <- rbinom(100, size = 1, prob = 0.6)\n",
    "group_var <- sample(1:2, size = 100, replace = TRUE)\n",
    "odds_group1 <- sum(binary_var[group_var == 1]) / sum(!binary_var[group_var == 1])\n",
    "odds_group2 <- sum(binary_var[group_var == 2]) / sum(!binary_var[group_var == 2])\n",
    "odds_ratio <- odds_group1 / odds_group2\n",
    "cat(paste(\"Odds group 1:\", round(odds_group1, 2), \"\\n\"))\n",
    "cat(paste(\"Odds group 2:\", round(odds_group2, 2), \"\\n\"))\n",
    "cat(paste(\"Odds ratio:\", round(odds_ratio, 2), \"\\n\"))"
   ]
  },
  {
   "cell_type": "markdown",
   "id": "86a30637-c0ad-4982-b9c1-02d8a4421c44",
   "metadata": {},
   "source": [
    "#### Logistic regression model\n",
    "\n",
    "Now let's move on to the logistic regression model. The logistic regression model is a type of generalized linear model that models the probability of an event occurring as a function of one or more predictor variables. The logistic regression model uses the logistic function, also known as the sigmoid function, to model the relationship between the predictor variables and the probability of the event occurring."
   ]
  },
  {
   "cell_type": "markdown",
   "id": "98130621-62d8-4297-8433-dead54b87cb7",
   "metadata": {},
   "source": [
    "**The sigmoid function is given as follows**\n",
    "\n",
    "$$\n",
    "\\sigma(x) = \\frac{1}{1 + e^{-x}}\n",
    "$$"
   ]
  },
  {
   "cell_type": "code",
   "execution_count": 11,
   "id": "aae68e5d-fb10-47c6-b691-17cf88821167",
   "metadata": {},
   "outputs": [
    {
     "data": {
      "image/png": "[encoded data removed]",
      "text/plain": [
       "plot without title"
      ]
     },
     "metadata": {
      "image/png": {
       "height": 420,
       "width": 420
      }
     },
     "output_type": "display_data"
    }
   ],
   "source": [
    "curve( 1 / (1 + exp(-x)), -7, 7, ylab=\"sigmoid(x)\")"
   ]
  },
  {
   "cell_type": "markdown",
   "id": "e73e9490-bfef-4294-9dbc-9632a01f3721",
   "metadata": {},
   "source": [
    "In logistic regression, the underlying model is assumed to be of the form\n",
    "\n",
    "$$\n",
    "\\boxed{p(x) = \\sigma\\Big(\\beta_0 + \\beta_1 x\\Big) = \\frac{1}{1 + \\exp({-\\beta_0 - \\beta_1 x})}}\n",
    "$$\n",
    "\n",
    "where $p(x)$ where is the probability of the event occurring given the value of the predictor variable $x$, and $b0$ and $b1$ are the **intercept** and **slope** coefficients of the logistic regression model, respectively. \n",
    "\n",
    "> $p(x)$ is gauranteed to be a probability for all values of $x$. \n",
    "\n",
    "Notice how this is similar to **linear regression** which has \n",
    "$$\n",
    "y(x) = \\beta_0 + \\beta_1 x\n",
    "$$"
   ]
  },
  {
   "cell_type": "markdown",
   "id": "fff92602-0837-422b-a2f1-1bc53cf3a349",
   "metadata": {},
   "source": [
    "The logistic function has an S-shaped curve and maps any real-valued input to a probability between 0 and 1. As such, the logistic regression model is well-suited for modeling binary response variables, where the goal is to predict the probability of an event occurring (e.g., whether a customer will buy a product or not).m"
   ]
  },
  {
   "cell_type": "markdown",
   "id": "06b7bed0-f56f-4125-962d-2b750407fe1c",
   "metadata": {},
   "source": [
    "## Logistic regression example\n",
    "\n",
    "The `glm()` function fits a generalized linear model, which includes logistic regression as a special case."
   ]
  },
  {
   "cell_type": "code",
   "execution_count": 12,
   "id": "28b14a2f-95ea-4903-82fc-143daa0deff2",
   "metadata": {},
   "outputs": [],
   "source": [
    "set.seed(123)\n",
    "x <- rnorm(100)\n",
    "y <- rbinom(100, size = 1, prob = exp(0.5 + 0.8*x)/(1 + exp(0.5 + 0.8*x)))"
   ]
  },
  {
   "cell_type": "code",
   "execution_count": 13,
   "id": "3c9eb2a8-c796-4c32-a025-3d6f58f7a40a",
   "metadata": {},
   "outputs": [
    {
     "data": {
      "text/plain": [
       "\n",
       "Call:\n",
       "glm(formula = y ~ x, family = binomial())\n",
       "\n",
       "Deviance Residuals: \n",
       "    Min       1Q   Median       3Q      Max  \n",
       "-2.3807  -1.1562   0.6142   0.8753   1.3844  \n",
       "\n",
       "Coefficients:\n",
       "            Estimate Std. Error z value Pr(>|z|)    \n",
       "(Intercept)   0.6370     0.2276   2.799 0.005121 ** \n",
       "x             0.9766     0.2891   3.378 0.000731 ***\n",
       "---\n",
       "Signif. codes:  0 ‘***’ 0.001 ‘**’ 0.01 ‘*’ 0.05 ‘.’ 0.1 ‘ ’ 1\n",
       "\n",
       "(Dispersion parameter for binomial family taken to be 1)\n",
       "\n",
       "    Null deviance: 129.49  on 99  degrees of freedom\n",
       "Residual deviance: 115.30  on 98  degrees of freedom\n",
       "AIC: 119.3\n",
       "\n",
       "Number of Fisher Scoring iterations: 4\n"
      ]
     },
     "metadata": {},
     "output_type": "display_data"
    }
   ],
   "source": [
    "model <- glm(y ~ x, family = binomial())\n",
    "summary(model)"
   ]
  },
  {
   "cell_type": "code",
   "execution_count": 14,
   "id": "3e8714ff-3f0b-4501-a147-2cb54e2b97ee",
   "metadata": {},
   "outputs": [],
   "source": [
    "new_x <- seq(-2, 2, by = 0.1)\n",
    "p1 <- predict(model, data.frame(x=new_x))\n",
    "p2 <- predict(model, data.frame(x=new_x), type=\"response\")"
   ]
  },
  {
   "cell_type": "code",
   "execution_count": 15,
   "id": "c334ab41-ae1b-4730-b1cf-117c6b731530",
   "metadata": {},
   "outputs": [
    {
     "data": {
      "image/png": "[encoded data removed]",
      "text/plain": [
       "plot without title"
      ]
     },
     "metadata": {
      "image/png": {
       "height": 420,
       "width": 420
      }
     },
     "output_type": "display_data"
    }
   ],
   "source": [
    "boxplot(p1, p2)"
   ]
  },
  {
   "cell_type": "markdown",
   "id": "b858cfee-e217-426d-9f33-9df3b64d9821",
   "metadata": {},
   "source": [
    "#### Logistic regression for breast cancer\n",
    "\n",
    "\n",
    "Let's start by fitting a logistic regression model to the breast cancer dataset using the `glm()` function in R. "
   ]
  },
  {
   "cell_type": "code",
   "execution_count": 16,
   "id": "a3ccc7b1-6c63-4f6a-bb57-bb202131d79e",
   "metadata": {},
   "outputs": [],
   "source": [
    "df <- df %>% mutate_at(\"outcome\", factor)"
   ]
  },
  {
   "cell_type": "code",
   "execution_count": 17,
   "id": "ccd6a770-19e0-4e6d-9d88-d30c806b8534",
   "metadata": {},
   "outputs": [
    {
     "name": "stderr",
     "output_type": "stream",
     "text": [
      "Warning message:\n",
      "“glm.fit: algorithm did not converge”\n",
      "Warning message:\n",
      "“glm.fit: fitted probabilities numerically 0 or 1 occurred”\n"
     ]
    },
    {
     "data": {
      "text/plain": [
       "\n",
       "Call:\n",
       "glm(formula = outcome ~ ., family = binomial(), data = df)\n",
       "\n",
       "Deviance Residuals: \n",
       "   Min      1Q  Median      3Q     Max  \n",
       " -8.49   -8.49   -8.49    8.49    8.49  \n",
       "\n",
       "Coefficients:\n",
       "              Estimate Std. Error z value Pr(>|z|)    \n",
       "(Intercept) -2.881e+06  2.816e+05 -10.233  < 2e-16 ***\n",
       "feat1        2.427e+06  2.693e+05   9.014  < 2e-16 ***\n",
       "feat2        1.958e+05  1.471e+04  13.313  < 2e-16 ***\n",
       "feat3        1.473e+06  2.464e+04  59.791  < 2e-16 ***\n",
       "feat4       -1.301e+05  3.907e+03 -33.301  < 2e-16 ***\n",
       "feat5       -1.525e+08  8.361e+06 -18.234  < 2e-16 ***\n",
       "feat6       -6.428e+06  3.213e+06  -2.001  0.04540 *  \n",
       "feat7        1.042e+06  1.408e+06   0.740  0.45959    \n",
       "feat8       -1.716e+07  5.382e+06  -3.188  0.00143 ** \n",
       "feat9        4.049e+07  7.772e+05  52.093  < 2e-16 ***\n",
       "feat10      -4.233e+07  2.169e+06 -19.519  < 2e-16 ***\n",
       "feat11       3.328e+07  1.169e+06  28.478  < 2e-16 ***\n",
       "feat12       6.368e+06  2.005e+05  31.763  < 2e-16 ***\n",
       "feat13       1.701e+06  4.720e+04  36.032  < 2e-16 ***\n",
       "feat14      -6.393e+05  1.835e+04 -34.840  < 2e-16 ***\n",
       "feat15       7.492e+08  1.224e+07  61.213  < 2e-16 ***\n",
       "feat16      -1.773e+08  5.732e+06 -30.931  < 2e-16 ***\n",
       "feat17       1.529e+08  5.340e+06  28.624  < 2e-16 ***\n",
       "feat18      -1.260e+09  4.012e+07 -31.398  < 2e-16 ***\n",
       "feat19       2.890e+08  4.126e+06  70.054  < 2e-16 ***\n",
       "feat20       1.512e+09  6.597e+07  22.921  < 2e-16 ***\n",
       "feat21      -6.130e+06  2.143e+05 -28.606  < 2e-16 ***\n",
       "feat22      -5.832e+05  2.437e+04 -23.935  < 2e-16 ***\n",
       "feat23      -3.538e+05  1.219e+04 -29.023  < 2e-16 ***\n",
       "feat24       8.950e+04  2.741e+03  32.657  < 2e-16 ***\n",
       "feat25      -2.161e+07  3.298e+06  -6.553 5.66e-11 ***\n",
       "feat26       8.986e+06  3.999e+05  22.470  < 2e-16 ***\n",
       "feat27      -3.028e+07  1.523e+06 -19.875  < 2e-16 ***\n",
       "feat28       1.431e+08  5.471e+06  26.162  < 2e-16 ***\n",
       "feat29      -2.474e+07  3.392e+05 -72.923  < 2e-16 ***\n",
       "feat30      -3.698e+07  5.340e+06  -6.926 4.33e-12 ***\n",
       "---\n",
       "Signif. codes:  0 ‘***’ 0.001 ‘**’ 0.01 ‘*’ 0.05 ‘.’ 0.1 ‘ ’ 1\n",
       "\n",
       "(Dispersion parameter for binomial family taken to be 1)\n",
       "\n",
       "    Null deviance:   751.44  on 568  degrees of freedom\n",
       "Residual deviance: 32006.76  on 538  degrees of freedom\n",
       "AIC: 32069\n",
       "\n",
       "Number of Fisher Scoring iterations: 25\n"
      ]
     },
     "metadata": {},
     "output_type": "display_data"
    }
   ],
   "source": [
    "model <- glm(outcome ~ ., data = df, family = binomial())\n",
    "summary(model)"
   ]
  },
  {
   "cell_type": "markdown",
   "id": "e6738434-6cb3-428f-a06e-e88f2add8fca",
   "metadata": {},
   "source": [
    "---\n",
    "\n",
    "The output of the summary() function provides a summary of the model, including the coefficients of each predictor, their standard errors, and the corresponding p-values. The coefficients represent the log odds ratio of the response variable for each predictor. We can exponentiate the coefficients to get the odds ratios:m"
   ]
  },
  {
   "cell_type": "code",
   "execution_count": 18,
   "id": "8f6db979-2cb2-43f8-b342-b123cae79ac9",
   "metadata": {},
   "outputs": [
    {
     "data": {
      "text/html": [
       "<strong>1:</strong> 1"
      ],
      "text/latex": [
       "\\textbf{1:} 1"
      ],
      "text/markdown": [
       "**1:** 1"
      ],
      "text/plain": [
       "1 \n",
       "1 "
      ]
     },
     "metadata": {},
     "output_type": "display_data"
    }
   ],
   "source": [
    "new_patient <- data.frame(matrix(rnorm(30), nrow = 1))\n",
    "names(new_patient) <- paste0(\"feat\", 1:30)\n",
    "predict(model, newdata = new_patient, type = \"response\")"
   ]
  },
  {
   "cell_type": "markdown",
   "id": "c46a752b-cd11-487b-8232-1a3c9270de0c",
   "metadata": {},
   "source": [
    "# Redo logistic regression, but this time using the `torch` library"
   ]
  },
  {
   "cell_type": "markdown",
   "id": "151066e7-fb73-4110-a388-fb7193a7c6f7",
   "metadata": {},
   "source": [
    "Now that we have the torch library installed, we can perform logistic regression using the following steps:\n",
    "\n",
    "1. Convert the data to a tensor\n",
    "1. Define the model architecture\n",
    "1. Define the loss function\n",
    "1. Define the optimizer\n",
    "1. Train the model\n",
    "1. Make predictions"
   ]
  },
  {
   "cell_type": "code",
   "execution_count": 19,
   "id": "d615ef43-7e39-469d-973d-9bd83e2fa7b1",
   "metadata": {},
   "outputs": [
    {
     "ename": "ERROR",
     "evalue": "Error in torch_tensor(X, dtype = torch_float()): could not find function \"torch_tensor\"\n",
     "output_type": "error",
     "traceback": [
      "Error in torch_tensor(X, dtype = torch_float()): could not find function \"torch_tensor\"\nTraceback:\n"
     ]
    }
   ],
   "source": [
    "X <- cbind(x)\n",
    "x_tensor <- torch_tensor(X, dtype = torch_float())\n",
    "y_tensor <- torch_tensor(y, dtype = torch_float())"
   ]
  },
  {
   "cell_type": "code",
   "execution_count": 20,
   "id": "471120fb-e742-4d98-a419-ad5dfbaa6f1e",
   "metadata": {},
   "outputs": [
    {
     "ename": "ERROR",
     "evalue": "Error in nn_module(\"logistic_regression\", initialize = function() {: could not find function \"nn_module\"\n",
     "output_type": "error",
     "traceback": [
      "Error in nn_module(\"logistic_regression\", initialize = function() {: could not find function \"nn_module\"\nTraceback:\n"
     ]
    }
   ],
   "source": [
    "module <- nn_module(\n",
    "  \"logistic_regression\",\n",
    "  initialize = function() {\n",
    "    self$fc1 <- nn_linear(1, 1)\n",
    "    self$fc2 <- nn_sigmoid()\n",
    "  },\n",
    "  forward = function(x) {\n",
    "    x %>% \n",
    "      self$fc1() %>% \n",
    "      self$fc2()\n",
    "  }\n",
    ")"
   ]
  },
  {
   "cell_type": "code",
   "execution_count": 158,
   "id": "a25ac24e-aa9d-4d3b-938a-d1e7f0842c74",
   "metadata": {},
   "outputs": [],
   "source": [
    "logistic_reg <- module()"
   ]
  },
  {
   "cell_type": "code",
   "execution_count": 159,
   "id": "6e2ff95f-c3f8-4d00-8d95-d1ec34ae5815",
   "metadata": {},
   "outputs": [
    {
     "data": {
      "text/plain": [
       "torch_tensor\n",
       " 0.6154\n",
       " 0.6208\n",
       " 0.6499\n",
       " 0.6258\n",
       " 0.6268\n",
       " 0.6524\n",
       "[ CPUFloatType{6,1} ][ grad_fn = <SliceBackward0> ]"
      ]
     },
     "metadata": {},
     "output_type": "display_data"
    }
   ],
   "source": [
    "y_pred <- logistic_reg(x_tensor)\n",
    "y_pred %>% head()"
   ]
  },
  {
   "cell_type": "markdown",
   "id": "cb40b63f-0895-4b83-a8cc-af31dec8c83b",
   "metadata": {},
   "source": [
    "> #### Question: What is an appropriate loss function?"
   ]
  },
  {
   "cell_type": "code",
   "execution_count": 160,
   "id": "a2e9ae7f-9549-43aa-8177-b88c0fd0c707",
   "metadata": {},
   "outputs": [],
   "source": [
    "L <- function(x, y, model){\n",
    "    y_pred <- model(x)\n",
    "    return (mean((y_pred - y)^2))\n",
    "}"
   ]
  },
  {
   "cell_type": "code",
   "execution_count": 161,
   "id": "3259d9df-ccaa-4a9c-95f3-9478a6bcee29",
   "metadata": {},
   "outputs": [
    {
     "data": {
      "text/plain": [
       "torch_tensor\n",
       "0.228298\n",
       "[ CPUFloatType{} ][ grad_fn = <MeanBackward0> ]"
      ]
     },
     "metadata": {},
     "output_type": "display_data"
    }
   ],
   "source": [
    "L(x_tensor, y_tensor, logistic_reg)"
   ]
  },
  {
   "cell_type": "markdown",
   "id": "8d4cb81b-2c98-4c35-983c-4a749c80b5eb",
   "metadata": {},
   "source": [
    "---\n",
    "\n",
    "##### Optimization"
   ]
  },
  {
   "cell_type": "code",
   "execution_count": 162,
   "id": "1abcd458-1f9f-432a-84e3-22fc4ec390cd",
   "metadata": {},
   "outputs": [],
   "source": [
    "optimizer <- optim_adam(logistic_reg$parameters, lr=0.0001)"
   ]
  },
  {
   "cell_type": "code",
   "execution_count": null,
   "id": "05ea6e78-37ed-4888-9959-77e61036388e",
   "metadata": {},
   "outputs": [],
   "source": [
    "epochs <- 10000\n",
    "\n",
    "for (i in 1:epochs){\n",
    "    loss <- L(x_tensor, y_tensor, logistic_reg)\n",
    "    \n",
    "    optimizer$zero_grad()\n",
    "    loss$backward()\n",
    "    optimizer$step()\n",
    "    \n",
    "    if (i %% 100 == 0) {\n",
    "        cat(sprintf(\"Epoch: %d, Loss: %.4f\\n\", i, loss$item()))\n",
    "    }\n",
    "}"
   ]
  },
  {
   "cell_type": "code",
   "execution_count": null,
   "id": "b073dd42-f3c5-4dc7-9c76-24f8084ac619",
   "metadata": {},
   "outputs": [],
   "source": []
  }
 ],
 "metadata": {
  "hide_input": false,
  "kernelspec": {
   "display_name": "R 4.2.2",
   "language": "R",
   "name": "ir42"
  },
  "language_info": {
   "codemirror_mode": "r",
   "file_extension": ".r",
   "mimetype": "text/x-r-source",
   "name": "R",
   "pygments_lexer": "r",
   "version": "4.2.2"
  }
 },
 "nbformat": 4,
 "nbformat_minor": 5
}
